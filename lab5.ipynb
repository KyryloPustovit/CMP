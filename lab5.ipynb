{
  "metadata": {
    "kernelspec": {
      "name": "python",
      "display_name": "Python (Pyodide)",
      "language": "python"
    },
    "language_info": {
      "codemirror_mode": {
        "name": "python",
        "version": 3
      },
      "file_extension": ".py",
      "mimetype": "text/x-python",
      "name": "python",
      "nbconvert_exporter": "python",
      "pygments_lexer": "ipython3",
      "version": "3.8"
    }
  },
  "nbformat_minor": 5,
  "nbformat": 4,
  "cells": [
    {
      "cell_type": "code",
      "source": "import numpy as np\nfrom scipy import optimize\nfrom scipy.misc import derivative\nimport math\n\nx0 = 2.75\ny0 = 0.7\ndelta = 0.1\n\ndef f1(x):\n    return -math.cos(x)-1+0.8\ndef f2 (y):\n    return math.cos(y + 2)\n\n \ndef iter (x,y,e):\n    xn = x\n    yn = y\n    xn1 = f2(x)\n    yn1 = f1(y)\n    n = 1\n    while ((abs(xn1-xn)>=e) & (abs(yn1-yn) >=e)):\n        xn = xn1\n        yn = yn1\n        xn1 = f2(yn)\n        yn1 = f1(xn)\n        n += 1\n    print ('Simple iteration:')\n    print ('x=', xn, '\\ny=',yn,'\\nThe amount of iteration = ',n)\niter(x0,y0,0.0001)\n\n\ndef f3(x): \n    return 3*x[0] -  math.cos(x[1])  - 0.9, math.sin(x[0] - 0.6) - x[1] -1.6\ns = optimize.root(f3, [0.,0.], method = 'hybr')",
      "metadata": {
        "trusted": true
      },
      "execution_count": 10,
      "outputs": [
        {
          "name": "stdout",
          "text": "Simple iteration:\nx= 0.5735587202018788 \ny= -1.0398887724028818 \nThe amount of iteration =  21\n",
          "output_type": "stream"
        }
      ],
      "id": "1599472e-3ca0-4513-ab27-6953f1911b93"
    },
    {
      "cell_type": "code",
      "source": "",
      "metadata": {},
      "execution_count": null,
      "outputs": [],
      "id": "6960db08-ba29-4898-93cc-22f578624366"
    }
  ]
}