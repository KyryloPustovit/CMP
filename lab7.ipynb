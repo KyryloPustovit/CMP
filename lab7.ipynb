{
 "cells": [
  {
   "cell_type": "code",
   "execution_count": 19,
   "metadata": {},
   "outputs": [
    {
     "name": "stdout",
     "output_type": "stream",
     "text": [
      "0.20000000000000018\n",
      "mas_1 =  [0.2560000000000002, 0.1629999999999998, 0.09800000000000031, 0.06099999999999994, 0.051000000000000156]\n",
      "mas_2= [-0.09300000000000042, -0.0649999999999995, -0.037000000000000366, -0.009999999999999787]\n",
      "mas_3= [0.028000000000000913, 0.027999999999999137, 0.02700000000000058]\n",
      "mas_4= [-1.7763568394002505e-15, -0.0009999999999985576]\n",
      "First derivative = 1.0254166666666604\n",
      "Second derivative = -2.3479166666665954\n"
     ]
    }
   ],
   "source": [
    "import numpy as np\n",
    "import math\n",
    "mas_x = [2.4,2.6,2.8,3.0,3.2,3.4]\n",
    "mas_y = [3.526,3.782,3.945,4.043,4.104,4.155]\n",
    "h = mas_x[1] - mas_x[0]\n",
    "print (h)\n",
    "mas_1 = [] \n",
    "mas_2 = []\n",
    "mas_3 = []\n",
    "mas_4 = []\n",
    "for i in range(len(mas_y)):\n",
    "    mas_1.append(mas_y[i] - mas_y[i-1])\n",
    "mas_1.pop (0)\n",
    "print('mas_1 = ', mas_1)\n",
    "\n",
    "for j in range(len(mas_1)):\n",
    "    mas_2.append(mas_1[j] - mas_1[j-1])\n",
    "mas_2.pop (0)\n",
    "print('mas_2=',mas_2 )\n",
    "\n",
    "for k in range(len(mas_2)):\n",
    "    mas_3.append(mas_2[k] - mas_2[k-1])\n",
    "mas_3.pop (0)\n",
    "print('mas_3=',mas_3)\n",
    "\n",
    "for l in range(len(mas_3)):\n",
    "    mas_4.append(mas_3[l] - mas_3[l-1])\n",
    "mas_4.pop (0)\n",
    "print('mas_4=',mas_4)\n",
    "\n",
    "y1 = 1/ h * (mas_1[1] - (mas_2[1]/ 2) + (mas_3[1] /3) - (mas_4[1]/4))\n",
    "y2 = 1/ (h**2) * (mas_2[1] - mas_3[1] + 11/12*mas_4[1]) \n",
    "\n",
    "print ('First derivative =', y1)\n",
    "print ('Second derivative =', y2)    \n"
   ]
  },
  {
   "cell_type": "code",
   "execution_count": 20,
   "metadata": {},
   "outputs": [
    {
     "name": "stdout",
     "output_type": "stream",
     "text": [
      "0.19999999999999973\n",
      "mas_1 =  [0.10899999999999999, 0.17599999999999927, 0.2680000000000007, 0.38399999999999945, 0.524]\n",
      "mas_2= [0.06699999999999928, 0.09200000000000141, 0.11599999999999877, 0.14000000000000057]\n",
      "mas_3= [0.02500000000000213, 0.023999999999997357, 0.024000000000001798]\n",
      "mas_4= [-0.0010000000000047748, 4.440892098500626e-15]\n",
      "First derivative = 0.6899999999999838\n",
      "Second derivative = 1.7000000000002073\n"
     ]
    }
   ],
   "source": [
    "import numpy as np\n",
    "import math\n",
    "mas_x = [3.6,3.8,4.0,4.2,4.4,4.6]\n",
    "mas_y = [4.222,4.331,4.507,4.775,5.159,5.683]\n",
    "h = mas_x[1] - mas_x[0]\n",
    "print (h)\n",
    "mas_1 = []\n",
    "mas_2 = []\n",
    "mas_3 = []\n",
    "mas_4 = []\n",
    "for i in range(len(mas_y)):\n",
    "    mas_1.append(mas_y[i] - mas_y[i-1])\n",
    "mas_1.pop (0)\n",
    "print('mas_1 = ', mas_1)\n",
    "\n",
    "for j in range(len(mas_1)):\n",
    "    mas_2.append(mas_1[j] - mas_1[j-1])\n",
    "mas_2.pop (0)\n",
    "print('mas_2=',mas_2 )\n",
    "\n",
    "for k in range(len(mas_2)):\n",
    "    mas_3.append(mas_2[k] - mas_2[k-1])\n",
    "mas_3.pop (0)\n",
    "print('mas_3=',mas_3)\n",
    "\n",
    "for l in range(len(mas_3)):\n",
    "    mas_4.append(mas_3[l] - mas_3[l-1])\n",
    "mas_4.pop (0)\n",
    "print('mas_4=',mas_4)\n",
    "\n",
    "y1 = 1/ h * (mas_1[1] - (mas_2[1]/ 2) + (mas_3[1] /3) - (mas_4[1]/4))\n",
    "y2 = 1/ (h**2) * (mas_2[1] - mas_3[1] + 11/12*mas_4[1])\n",
    "\n",
    "print ('First derivative =', y1)\n",
    "print ('Second derivative =', y2)"
   ]
  },
  {
   "cell_type": "code",
   "execution_count": 21,
   "metadata": {},
   "outputs": [
    {
     "name": "stdout",
     "output_type": "stream",
     "text": [
      "0.5\n",
      "mas_1 =  [-0.32399999999999984, -0.38599999999999923, -0.41999999999999993, -0.41000000000000014, -0.33999999999999986]\n",
      "mas_2= [-0.06199999999999939, -0.034000000000000696, 0.009999999999999787, 0.07000000000000028]\n",
      "mas_3= [0.027999999999998693, 0.04400000000000048, 0.0600000000000005]\n",
      "mas_4= [0.01600000000000179, 0.016000000000000014]\n",
      "First derivative = -0.7166666666666641\n",
      "Second derivative = -0.253333333333338\n"
     ]
    }
   ],
   "source": [
    "import numpy as np\n",
    "import math\n",
    "mas_x = [1.5,2.0,2.5,3.0,3.5,4.0]\n",
    "mas_y = [10.517,10.193,9.807,9.387,8.977,8.637]\n",
    "h = mas_x[1] - mas_x[0]\n",
    "print (h)\n",
    "mas_1 = []\n",
    "mas_2 = []\n",
    "mas_3 = []\n",
    "mas_4 = []\n",
    "for i in range(len(mas_y)):\n",
    "    mas_1.append(mas_y[i] - mas_y[i-1])\n",
    "mas_1.pop (0)\n",
    "print('mas_1 = ', mas_1)\n",
    "\n",
    "for j in range(len(mas_1)):\n",
    "    mas_2.append(mas_1[j] - mas_1[j-1])\n",
    "mas_2.pop (0)\n",
    "print('mas_2=',mas_2 )\n",
    "\n",
    "for k in range(len(mas_2)):\n",
    "    mas_3.append(mas_2[k] - mas_2[k-1])\n",
    "mas_3.pop (0)\n",
    "print('mas_3=',mas_3)\n",
    "\n",
    "for l in range(len(mas_3)):\n",
    "    mas_4.append(mas_3[l] - mas_3[l-1])\n",
    "mas_4.pop (0)\n",
    "print('mas_4=',mas_4)\n",
    "\n",
    "y1 = 1/ h * (mas_1[1] - (mas_2[1]/ 2) + (mas_3[1] /3) - (mas_4[1]/4))\n",
    "y2 = 1/ (h**2) * (mas_2[1] - mas_3[1] + 11/12*mas_4[1])\n",
    "\n",
    "print ('First derivative =', y1)\n",
    "print ('Second derivative =', y2)"
   ]
  },
  {
   "cell_type": "code",
   "execution_count": 22,
   "metadata": {},
   "outputs": [
    {
     "name": "stdout",
     "output_type": "stream",
     "text": [
      "0.5\n",
      "mas_1 =  [0.03999999999999915, 0.3800000000000008, 0.8390000000000004, 1.4309999999999992, 2.17]\n",
      "mas_2= [0.34000000000000163, 0.45899999999999963, 0.5919999999999987, 0.7390000000000008]\n",
      "mas_3= [0.118999999999998, 0.13299999999999912, 0.14700000000000202]\n",
      "mas_4= [0.014000000000001123, 0.014000000000002899]\n",
      "First derivative = 0.38266666666666654\n",
      "Second derivative = 1.355333333333346\n"
     ]
    }
   ],
   "source": [
    "import numpy as np\n",
    "import math\n",
    "mas_x = [4.5,5.0,5.5,6.0,6.5,7.0]\n",
    "mas_y = [8.442,8.482,8.862,9.701,11.132,13.302]\n",
    "h = mas_x[1] - mas_x[0]\n",
    "print (h)\n",
    "mas_1 = []\n",
    "mas_2 = []\n",
    "mas_3 = []\n",
    "mas_4 = []\n",
    "for i in range(len(mas_y)):\n",
    "    mas_1.append(mas_y[i] - mas_y[i-1])\n",
    "mas_1.pop (0)\n",
    "print('mas_1 = ', mas_1)\n",
    "\n",
    "for j in range(len(mas_1)):\n",
    "    mas_2.append(mas_1[j] - mas_1[j-1])\n",
    "mas_2.pop (0)\n",
    "print('mas_2=',mas_2 )\n",
    "\n",
    "for k in range(len(mas_2)):\n",
    "    mas_3.append(mas_2[k] - mas_2[k-1])\n",
    "mas_3.pop (0)\n",
    "print('mas_3=',mas_3)\n",
    "\n",
    "for l in range(len(mas_3)):\n",
    "    mas_4.append(mas_3[l] - mas_3[l-1])\n",
    "mas_4.pop (0)\n",
    "print('mas_4=',mas_4)\n",
    "\n",
    "y1 = 1/ h * (mas_1[1] - (mas_2[1]/ 2) + (mas_3[1] /3) - (mas_4[1]/4))\n",
    "y2 = 1/ (h**2) * (mas_2[1] - mas_3[1] + 11/12*mas_4[1])\n",
    "\n",
    "print ('First derivative =', y1)\n",
    "print ('Second derivative =', y2)"
   ]
  }
 ],
 "metadata": {
  "kernelspec": {
   "display_name": "Python 3.10.0 64-bit",
   "language": "python",
   "name": "python3"
  },
  "language_info": {
   "codemirror_mode": {
    "name": "ipython",
    "version": 3
   },
   "file_extension": ".py",
   "mimetype": "text/x-python",
   "name": "python",
   "nbconvert_exporter": "python",
   "pygments_lexer": "ipython3",
   "version": "3.10.0"
  },
  "orig_nbformat": 4,
  "vscode": {
   "interpreter": {
    "hash": "6026767b7c9250c10b78b45a16721c6c5af917fb51173488f0fc4b04b8a077ae"
   }
  }
 },
 "nbformat": 4,
 "nbformat_minor": 2
}
