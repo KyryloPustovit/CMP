{
  "cells": [
    {
      "cell_type": "code",
      "execution_count": 1,
      "metadata": {
        "trusted": true
      },
      "outputs": [
        {
          "name": "stdout",
          "output_type": "stream",
          "text": [
            "[[  0  12]\n",
            " [-24   0]]\n"
          ]
        }
      ],
      "source": [
        "import numpy as np\n",
        "a=np.matrix([[1, 2], [4, -1]])\n",
        "b=np.matrix([[1, 2], [4, 5,]])\n",
        "print(a*b-b*a)\n"
      ]
    },
    {
      "cell_type": "code",
      "execution_count": 2,
      "metadata": {},
      "outputs": [
        {
          "name": "stdout",
          "output_type": "stream",
          "text": [
            "[[1 0]\n",
            " [0 1]]\n"
          ]
        }
      ],
      "source": [
        "import numpy as np\n",
        "a=np.matrix([[-1, 2], [0, 1]])\n",
        "b=a.dot(a)\n",
        "print(b)"
      ]
    },
    {
      "cell_type": "code",
      "execution_count": 3,
      "metadata": {},
      "outputs": [
        {
          "name": "stdout",
          "output_type": "stream",
          "text": [
            "[[-9 13]\n",
            " [15  4]]\n"
          ]
        }
      ],
      "source": [
        "import numpy as np\n",
        "a=np.matrix([[3, 5], [6, -1]])\n",
        "b=np.matrix([[2, 1], [-3, 2]])\n",
        "c=a.dot(b)\n",
        "print(c)"
      ]
    },
    {
      "cell_type": "code",
      "execution_count": 4,
      "metadata": {},
      "outputs": [
        {
          "name": "stdout",
          "output_type": "stream",
          "text": [
            "35.00000000000001\n"
          ]
        }
      ],
      "source": [
        "import numpy as np\n",
        "a=np.matrix([[2, 3, 4], [1, 0, 6], [7, 8, 9]])\n",
        "aa=np.linalg.det(a)\n",
        "print(aa)"
      ]
    },
    {
      "cell_type": "code",
      "execution_count": 5,
      "metadata": {},
      "outputs": [
        {
          "name": "stdout",
          "output_type": "stream",
          "text": [
            "990.0000000000001\n"
          ]
        }
      ],
      "source": [
        "import numpy as np\n",
        "a=np.matrix([[1, 2, 3, 4], [-2, 1, -4, 3], [3, -4, -4, 2], [4, 3, -2, -1]])\n",
        "aa=np.linalg.det(a)\n",
        "print(aa)"
      ]
    },
    {
      "cell_type": "code",
      "execution_count": 6,
      "metadata": {},
      "outputs": [
        {
          "name": "stdout",
          "output_type": "stream",
          "text": [
            "[[ 1. -2.  7.]\n",
            " [ 0.  1. -2.]\n",
            " [ 0.  0.  1.]]\n"
          ]
        }
      ],
      "source": [
        "import numpy as np\n",
        "a=np.matrix([[1, 2, -3], [0, 1, 2], [0, 0, 1]])\n",
        "aa=np.linalg.inv(a)\n",
        "print(aa)"
      ]
    },
    {
      "cell_type": "code",
      "execution_count": 7,
      "metadata": {},
      "outputs": [
        {
          "name": "stdout",
          "output_type": "stream",
          "text": [
            "2\n"
          ]
        }
      ],
      "source": [
        "import numpy as np\n",
        "a=np.matrix([[1, 2, 3, 4], [3, -1, 2, 5], [1, 2, 3, 4], [1, 3, 4, 5]])\n",
        "aa=np.linalg.matrix_rank(a)\n",
        "print(aa)"
      ]
    },
    {
      "cell_type": "code",
      "execution_count": 8,
      "metadata": {
        "trusted": true
      },
      "outputs": [
        {
          "name": "stdout",
          "output_type": "stream",
          "text": [
            "a =  [[ 1 -4  0]\n",
            " [ 2 -3  1]\n",
            " [ 1  4  2]]\n",
            "b =  [[-5]\n",
            " [-7]\n",
            " [-1]]\n",
            "Детермінація матриці 2.000000000000001\n",
            "Розвязування системи\n",
            "x_m =  [[-5 -4  0]\n",
            " [-7 -3  1]\n",
            " [-1  4  2]]\n",
            "y_m =  [[-5 -4  0]\n",
            " [-7 -3  1]\n",
            " [-1  4  2]]\n",
            "z_m =  [[-5 -4  0]\n",
            " [-7 -3  1]\n",
            " [-1  4  2]]\n",
            "x =  -1.0\n",
            "y =  -1.0\n",
            "z =  -1.0\n",
            "Перевірка x =  [[-1.]\n",
            " [ 1.]\n",
            " [-2.]]\n"
          ]
        }
      ],
      "source": [
        "import numpy as np\n",
        "a=np.matrix('1 -4 0; 2 -3 1; 1 4 2')\n",
        "b=np.matrix([[-5], [-7], [-1]])\n",
        "print('a = ', a)\n",
        "print('b = ', b)\n",
        "\n",
        "def kramer(a,b):\n",
        "    aa=np.linalg.det(a)\n",
        "    print('Детермінація матриці', aa)\n",
        "    if(aa!=0):\n",
        "        print('Розвязування системи')\n",
        "        x_m=np.matrix(a)\n",
        "        x_m[:, 0]=b\n",
        "        print('x_m = ', x_m)\n",
        "        y_m=np.matrix(a)\n",
        "        y_m[:, 0]=b\n",
        "        print('y_m = ', y_m)\n",
        "        z_m=np.matrix(a)\n",
        "        z_m[:, 0]=b\n",
        "        print('z_m = ', z_m)\n",
        "        x=np.linalg.det(x_m)/aa\n",
        "        y=np.linalg.det(y_m)/aa\n",
        "        z=np.linalg.det(z_m)/aa\n",
        "        print('x = ', round(x,5))\n",
        "        print('y = ', round(y,5))\n",
        "        print('z = ', round(z,5))\n",
        "    else:\n",
        "        print('Немає розвязків')\n",
        "kramer(a,b)\n",
        "x=np.linalg.solve(a,b)\n",
        "\n",
        "print('Перевірка x = ', x)"
      ]
    }
  ],
  "metadata": {
    "kernelspec": {
      "display_name": "Python 3.10.0 64-bit",
      "language": "python",
      "name": "python3"
    },
    "language_info": {
      "codemirror_mode": {
        "name": "ipython",
        "version": 3
      },
      "file_extension": ".py",
      "mimetype": "text/x-python",
      "name": "python",
      "nbconvert_exporter": "python",
      "pygments_lexer": "ipython3",
      "version": "3.10.0"
    },
    "vscode": {
      "interpreter": {
        "hash": "6026767b7c9250c10b78b45a16721c6c5af917fb51173488f0fc4b04b8a077ae"
      }
    }
  },
  "nbformat": 4,
  "nbformat_minor": 4
}
